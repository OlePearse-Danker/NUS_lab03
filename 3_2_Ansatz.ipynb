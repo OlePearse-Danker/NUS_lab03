{
 "cells": [
  {
   "cell_type": "markdown",
   "metadata": {},
   "source": [
    "# Windkraftanlage\n",
    "\n",
    "## Modell\n",
    "\n",
    "Rotationsgleichung:\n",
    "\n",
    "$$I \\ddot{\\phi} = K \\, v(t) - c \\dot{\\phi}$$\n",
    "\n",
    "$\\phi (t)$: Auslenkung des Rotors\n",
    "\n",
    "$\\dot{\\phi}(t) = \\omega (t)$: Winkelgeschwindigkeit des Rotors\n",
    "\n",
    "$K$: Proportionalitätskonstante zur Umwandlung der Windgeschwindigkeit in ein Rotor-Drehmoment [Nm/m/s = Ns]\n",
    "\n",
    "$v(t)$: Windgeschwindigkeit [m/s]\n",
    "\n",
    "$c$: Dämpfungskonstante\n",
    "\n",
    "Übersetzung in ein System aus Differentialgleichungen 1. Ordnung:\n",
    "\n",
    "$$\n",
    "\\begin{aligned}\n",
    "\\dot{x}_1(t) &= x_2(t) \\\\\n",
    "\\dot{x}_2(t) &= \\frac{1}{I} \\, \\left( K \\, v(t) - c \\, x_2 \\right)\n",
    "\\end{aligned}\n",
    "$$\n",
    "\n",
    "Python-Funktionen:"
   ]
  },
  {
   "cell_type": "code",
   "execution_count": 1,
   "metadata": {},
   "outputs": [],
   "source": [
    "import numpy as np\n",
    "from numkit import awp_vec_rk4\n",
    "\n",
    "def f1(t,x,c,I,K,om_w,v_w):\n",
    "    return x[1]\n",
    "\n",
    "def f2(t,x,c,I,K,om_w,v_w):\n",
    "    return (K*v_w*np.sin(om_w*t)**2-c*x[1])/I"
   ]
  },
  {
   "cell_type": "code",
   "execution_count": 2,
   "metadata": {},
   "outputs": [],
   "source": [
    "c=1\n",
    "I=100\n",
    "K=1\n",
    "om_w = 0.1\n",
    "v_w=5\n",
    "\n",
    "h = 0.1\n",
    "t_span = (0,600)\n",
    "\n",
    "f = (f1,f2)\n",
    "phi_0 = np.array([0,0])\n",
    "\n",
    "t, x = awp_vec_rk4(f, t_span, phi_0, h, c,I,K,om_w,v_w)"
   ]
  }
 ],
 "metadata": {
  "kernelspec": {
   "display_name": "ns",
   "language": "python",
   "name": "python3"
  },
  "language_info": {
   "codemirror_mode": {
    "name": "ipython",
    "version": 3
   },
   "file_extension": ".py",
   "mimetype": "text/x-python",
   "name": "python",
   "nbconvert_exporter": "python",
   "pygments_lexer": "ipython3",
   "version": "3.12.0"
  }
 },
 "nbformat": 4,
 "nbformat_minor": 2
}
